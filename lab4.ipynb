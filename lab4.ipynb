{
 "cells": [
  {
   "cell_type": "code",
   "execution_count": 3,
   "id": "1651db03-3d19-4d93-a73e-0f221e249cb5",
   "metadata": {},
   "outputs": [],
   "source": [
    "import numpy as np\n",
    "import matplotlib.pyplot as plt \n",
    "import cv2 as cv\n",
    "from scipy.signal import convolve2d"
   ]
  },
  {
   "cell_type": "code",
   "execution_count": 23,
   "id": "9044c9bf-8c04-43c0-b031-1b9a82ca78ca",
   "metadata": {},
   "outputs": [],
   "source": [
    "def lucas_kanade(imfirst, imsecond): \n",
    "    myframe = cv.imread(imfirst)\n",
    "    Image1 = cv.cvtColor(myframe, cv.COLOR_BGR2GRAY) \n",
    "    newframe = cv.imread(imsecond)\n",
    "    Image2 = cv.cvtColor(newframe, cv.COLOR_BGR2GRAY)\n",
    "\n",
    "    color = np.random.randint(0, 255, (100, 3)) \n",
    "    Gx = np.reshape(np.asarray([[-1, 1], [-1, 1]]), (2, 2))\n",
    "    Gy = np.reshape(np.asarray([[-1, -1], [1, 1]]), (2, 2)) \n",
    "    Gtl = np.reshape(np.asarray([[-1, -1], [-1, -1]]), (2, 2)) \n",
    "    Gt2 = np.reshape(np.asarray([[1, 1], [1, 1]]), (2, 2))\n",
    "\n",
    "    lx = (convolve2d(Imagel, Gx) + convolve2d(Image2, Gx)) / 2\n",
    "    ly = (convolve2d(Imagel, Gy) + convolve2d(Image2, Gy)) / 2 \n",
    "    lt1 = convolve2d(Imagel, Gt1) + convolve2d(Image2, Gt2)\n",
    "    feature_params = dict(maxCorners=100, qualityLevel=0.3, minDistance=7, blockSize=7)\n",
    "    \n",
    "    features= cv.goodFeaturesToTrack(Image1, mask = None, **feature_params) \n",
    "    feature = np.int32(features)\n",
    "    feature = np.reshape(feature, newshape=[-1, 2])\n",
    "    \n",
    "    u = np.ones(Ix.shape)\n",
    "    v = np.ones(Ix.shape)\n",
    "    status = np.zeros(feature.shape[0])\n",
    "    A = np.zeros((2, 2))\n",
    "    B = np.zeros((2, 1))\n",
    "    mask = np.zeros_like(myframe)\n",
    "    newFeature = np.zeros_like(feature)\n",
    "    \n",
    "    for a, i in enumerate(feature): \n",
    "        x, y = i\n",
    "        A[0, 0] = np.sum((lx[y-1:y+2, x-1:x+2])** 2) \n",
    "        A[1, 1] = np.sum((ly[y-1:y+2, x-1:x+2])** 2) \n",
    "        A[0, 1] = np.sum(lx[y-1:y+2, x-1:x+2] * ly[y-1:y+2, x-1:x+2])\n",
    "        A[1, 0] = np.sum(lx[y-1:y+2, x-1:x+2] * ly[y-1:y+2, x-1:x+2])\n",
    "        Ainv = np.linalg.pinv(A)\n",
    "        B[0, 0] =- np.sum(x[y-1:y+2, x-1:x+2] * lt1[y-1:y+2, x-1:x+2])\n",
    "        B[1, 0] =- np.sum(ly[y-1:y+2, x-1:x+2] * lt1[y-1:y+2, x-1:x+2])\n",
    "        prod = np.matmul(Ainv, B)\n",
    "        u[y, x] = prod[0]\n",
    "        v[y, x] = prod[1]\n",
    "        newFeature[a] = [np.int32(x+u[y,x]),np.int32(y+v[y,x])]\n",
    "        if np.int32(x+u[y,x])==x and np.int32(y+v[y,x])==y:\n",
    "            status[a]=0\n",
    "        else:\n",
    "            status[a]=1\n",
    "\n",
    "        um = np.flipud(u)\n",
    "        vm = np.flipud(v)\n",
    "        good_new = newFeature[status==1] \n",
    "        good_old = feature[status==1] \n",
    "        print(good_new.shape) \n",
    "        print(good_old.shape)\n",
    "        \n",
    "        for i, (new, old) in enumerate(zip(good_new, good_old)):\n",
    "            a, b = new.ravel()\n",
    "            c, d = old.ravel()\n",
    "            mask = cv.line(mask, (a, b), (c, d), color[i].tolist(), 2)\n",
    "            newframe = cv.circle(newframe, (a, b), 5, color[i].tolist(), -1) \n",
    "        \n",
    "        img = cv.add(newframe, mask)\n",
    "        return img"
   ]
  },
  {
   "cell_type": "code",
   "execution_count": null,
   "id": "2dda6a29-765f-4e94-9ef8-2641f6e2e4b2",
   "metadata": {},
   "outputs": [],
   "source": [
    "basketball_image = lucas_kanade(\"basketball1.png\", \"basketball2.png\")\n",
    "plt.imshow(basketball_image)\n",
    "plt.show()"
   ]
  }
 ],
 "metadata": {
  "kernelspec": {
   "display_name": "Python 3 (ipykernel)",
   "language": "python",
   "name": "python3"
  },
  "language_info": {
   "codemirror_mode": {
    "name": "ipython",
    "version": 3
   },
   "file_extension": ".py",
   "mimetype": "text/x-python",
   "name": "python",
   "nbconvert_exporter": "python",
   "pygments_lexer": "ipython3",
   "version": "3.11.3"
  }
 },
 "nbformat": 4,
 "nbformat_minor": 5
}
