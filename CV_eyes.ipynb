{
 "cells": [
  {
   "cell_type": "code",
   "execution_count": 7,
   "id": "ff8f95ee-2e80-4bca-9acf-095a35accaf9",
   "metadata": {},
   "outputs": [],
   "source": [
    "import cv2\n",
    "import numpy as np"
   ]
  },
  {
   "cell_type": "code",
   "execution_count": 8,
   "id": "0f17911e-50de-4b92-98f7-d99460ce1a80",
   "metadata": {},
   "outputs": [],
   "source": [
    "cap = cv2.VideoCapture(\"Video/eye.mp4\")"
   ]
  },
  {
   "cell_type": "code",
   "execution_count": 9,
   "id": "c2fb43f4-fff1-4e25-a1b7-27c8ede325b7",
   "metadata": {},
   "outputs": [],
   "source": [
    "while True:\n",
    "    ret, frame = cap.read()\n",
    "    if ret is False:\n",
    "        break\n",
    "    roi = frame[269: 795, 537: 1416]\n",
    "    #roi = frame\n",
    "    rows, cols, _ = roi.shape\n",
    "    gray_roi = cv2.cvtColor(roi, cv2.COLOR_BGR2GRAY)\n",
    "    gray_roi = cv2.GaussianBlur(gray_roi, (5, 5), 0)\n",
    "    _, threshold = cv2.threshold(gray_roi, 3, 255, cv2.THRESH_BINARY_INV)\n",
    "    contours, _ = cv2.findContours(threshold, cv2.RETR_TREE, cv2.CHAIN_APPROX_SIMPLE)\n",
    "    contours = sorted(contours, key=lambda x: cv2.contourArea(x), reverse=True)\n",
    "    for cnt in contours:\n",
    "        (x, y, w, h) = cv2.boundingRect(cnt)\n",
    "        #cv2.drawContours (roi, [cnt], -1, (0, 0, 255), 3)\n",
    "        cv2.rectangle(roi, (x, y), (x + w, y + h), (255, 0, 0), 2)\n",
    "        cv2.line(roi, (x + int(w/2), 0), (x + int(w/2), rows), (0, 255, 0), 2)\n",
    "        cv2.line(roi, (0, y + int(h/2)), (cols, y + int(h/2)), (0, 255, 0), 2)\n",
    "        break\n",
    "    cv2.imshow(\"Threshold\", threshold)\n",
    "    cv2.imshow(\"gray roi\", gray_roi)\n",
    "    cv2.imshow(\"Roi\", roi)\n",
    "    key = cv2.waitKey(30)\n",
    "    if key == 27:\n",
    "        break\n",
    "\n",
    "cv2.destroyAllWindows()"
   ]
  },
  {
   "cell_type": "code",
   "execution_count": null,
   "id": "8496416d-e09b-4397-9daf-a63e37253b32",
   "metadata": {},
   "outputs": [],
   "source": []
  }
 ],
 "metadata": {
  "kernelspec": {
   "display_name": "Python 3 (ipykernel)",
   "language": "python",
   "name": "python3"
  },
  "language_info": {
   "codemirror_mode": {
    "name": "ipython",
    "version": 3
   },
   "file_extension": ".py",
   "mimetype": "text/x-python",
   "name": "python",
   "nbconvert_exporter": "python",
   "pygments_lexer": "ipython3",
   "version": "3.11.3"
  }
 },
 "nbformat": 4,
 "nbformat_minor": 5
}
